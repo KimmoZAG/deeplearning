{
 "cells": [
  {
   "cell_type": "code",
   "execution_count": 2,
   "id": "b219ea90",
   "metadata": {},
   "outputs": [],
   "source": [
    "#加载数据集\n",
    "from keras.datasets import imdb\n",
    "\n",
    "(train_data, train_labels), (test_data, test_labels) = imdb.load_data(num_words=10000)"
   ]
  },
  {
   "cell_type": "code",
   "execution_count": 6,
   "id": "82d3f2a9",
   "metadata": {},
   "outputs": [
    {
     "data": {
      "text/plain": [
       "array([0., 1., 1., ..., 0., 0., 0.])"
      ]
     },
     "execution_count": 6,
     "metadata": {},
     "output_type": "execute_result"
    }
   ],
   "source": [
    "#准备数据集------具体就是将数据转为张量的形式\n",
    "\n",
    "import numpy as np\n",
    "def vectorize_sequences(sequences, dimension=10000):\n",
    "    #这里是创建了一个与输入列表相同规格的np矩阵， enumerate取代了传统的两层for循环\n",
    "    results = np.zeros((len(sequences), dimension))\n",
    "    for i, sequence in enumerate(sequences):\n",
    "        results[i, sequence] = 1.0\n",
    "    return results\n",
    "x_train = vectorize_sequences(train_data)\n",
    "x_test = vectorize_sequences(test_data)\n",
    "\n",
    "y_train = np.asarray(train_labels).astype('float32')\n",
    "y_test = np.asarray(test_labels).astype('float32')"
   ]
  },
  {
   "cell_type": "code",
   "execution_count": 20,
   "id": "70bae391",
   "metadata": {},
   "outputs": [],
   "source": [
    "#模型定义---------构建网络，2层hiddenlayer,1层outputlayer\n",
    "from keras import models\n",
    "from keras import layers\n",
    "\n",
    "model = models.Sequential()\n",
    "model.add(layers.Dense(16, activation='relu', input_shape=(10000,)))\n",
    "model.add(layers.Dense(16, activation='relu'))\n",
    "model.add(layers.Dense(1, activation='sigmoid'))"
   ]
  },
  {
   "cell_type": "code",
   "execution_count": 22,
   "id": "d8882257",
   "metadata": {},
   "outputs": [],
   "source": [
    "#编译模型\n",
    "model.compile(optimizer='rmsprop',\n",
    "             loss=\"binary_crossentropy\",\n",
    "             metrics=['accuracy'])"
   ]
  },
  {
   "cell_type": "code",
   "execution_count": 24,
   "id": "40baa93e",
   "metadata": {},
   "outputs": [],
   "source": [
    "#划分训练集\n",
    "x_val = x_train[:10000]\n",
    "partial_x_train = x_train[10000:]\n",
    "\n",
    "y_val = y_train[:10000]\n",
    "partial_y_train = y_train[10000:]"
   ]
  },
  {
   "cell_type": "code",
   "execution_count": 27,
   "id": "0e0c3740",
   "metadata": {},
   "outputs": [
    {
     "name": "stdout",
     "output_type": "stream",
     "text": [
      "Train on 15000 samples, validate on 10000 samples\n",
      "Epoch 1/20\n",
      "15000/15000 [==============================] - 2s 152us/step - loss: 0.4923 - accuracy: 0.7821 - val_loss: 0.3811 - val_accuracy: 0.8567\n",
      "Epoch 2/20\n",
      "15000/15000 [==============================] - 1s 82us/step - loss: 0.2898 - accuracy: 0.9070 - val_loss: 0.3305 - val_accuracy: 0.8676\n",
      "Epoch 3/20\n",
      "15000/15000 [==============================] - 1s 81us/step - loss: 0.2129 - accuracy: 0.9292 - val_loss: 0.3301 - val_accuracy: 0.8638\n",
      "Epoch 4/20\n",
      "15000/15000 [==============================] - 1s 92us/step - loss: 0.1687 - accuracy: 0.9455 - val_loss: 0.2730 - val_accuracy: 0.8914\n",
      "Epoch 5/20\n",
      "15000/15000 [==============================] - 1s 94us/step - loss: 0.1407 - accuracy: 0.9546 - val_loss: 0.2836 - val_accuracy: 0.8878\n",
      "Epoch 6/20\n",
      "15000/15000 [==============================] - 1s 88us/step - loss: 0.1114 - accuracy: 0.9657 - val_loss: 0.3444 - val_accuracy: 0.8734\n",
      "Epoch 7/20\n",
      "15000/15000 [==============================] - 1s 92us/step - loss: 0.0940 - accuracy: 0.9731 - val_loss: 0.3125 - val_accuracy: 0.8836\n",
      "Epoch 8/20\n",
      "15000/15000 [==============================] - 1s 97us/step - loss: 0.0767 - accuracy: 0.9779 - val_loss: 0.3354 - val_accuracy: 0.8822\n",
      "Epoch 9/20\n",
      "15000/15000 [==============================] - 1s 79us/step - loss: 0.0632 - accuracy: 0.9831 - val_loss: 0.3624 - val_accuracy: 0.8800\n",
      "Epoch 10/20\n",
      "15000/15000 [==============================] - 1s 88us/step - loss: 0.0527 - accuracy: 0.9867 - val_loss: 0.3924 - val_accuracy: 0.8756\n",
      "Epoch 11/20\n",
      "15000/15000 [==============================] - 1s 92us/step - loss: 0.0418 - accuracy: 0.9911 - val_loss: 0.4139 - val_accuracy: 0.8747\n",
      "Epoch 12/20\n",
      "15000/15000 [==============================] - 1s 80us/step - loss: 0.0340 - accuracy: 0.9931 - val_loss: 0.4425 - val_accuracy: 0.8740\n",
      "Epoch 13/20\n",
      "15000/15000 [==============================] - 1s 76us/step - loss: 0.0265 - accuracy: 0.9951 - val_loss: 0.4748 - val_accuracy: 0.8719\n",
      "Epoch 14/20\n",
      "15000/15000 [==============================] - 1s 78us/step - loss: 0.0205 - accuracy: 0.9969 - val_loss: 0.5321 - val_accuracy: 0.8638\n",
      "Epoch 15/20\n",
      "15000/15000 [==============================] - 1s 78us/step - loss: 0.0202 - accuracy: 0.9967 - val_loss: 0.5371 - val_accuracy: 0.8716\n",
      "Epoch 16/20\n",
      "15000/15000 [==============================] - 1s 82us/step - loss: 0.0106 - accuracy: 0.9994 - val_loss: 0.5722 - val_accuracy: 0.8679\n",
      "Epoch 17/20\n",
      "15000/15000 [==============================] - 1s 88us/step - loss: 0.0123 - accuracy: 0.9981 - val_loss: 0.6013 - val_accuracy: 0.8693\n",
      "Epoch 18/20\n",
      "15000/15000 [==============================] - 1s 86us/step - loss: 0.0120 - accuracy: 0.9975 - val_loss: 0.6371 - val_accuracy: 0.8668\n",
      "Epoch 19/20\n",
      "15000/15000 [==============================] - 1s 82us/step - loss: 0.0046 - accuracy: 0.9999 - val_loss: 0.6670 - val_accuracy: 0.8651\n",
      "Epoch 20/20\n",
      "15000/15000 [==============================] - 1s 78us/step - loss: 0.0077 - accuracy: 0.9984 - val_loss: 0.6938 - val_accuracy: 0.8654\n"
     ]
    }
   ],
   "source": [
    "history = model.fit(partial_x_train,\n",
    "                   partial_y_train,\n",
    "                   epochs=20,\n",
    "                   batch_size=512,\n",
    "                   validation_data=(x_val, y_val))"
   ]
  },
  {
   "cell_type": "code",
   "execution_count": 35,
   "id": "7ac05ec9",
   "metadata": {},
   "outputs": [
    {
     "data": {
      "image/png": "[encoded data removed]",
      "text/plain": [
       "<Figure size 432x288 with 1 Axes>"
      ]
     },
     "metadata": {
      "needs_background": "light"
     },
     "output_type": "display_data"
    }
   ],
   "source": [
    "import matplotlib.pyplot as plt\n",
    "\n",
    "history_dict = history.history\n",
    "acc_values = history_dict['accuracy']\n",
    "val_acc_values = history_dict['val_accuracy']\n",
    "\n",
    "epochs = range(1, len(acc_values) + 1)\n",
    "\n",
    "plt.plot(epochs, acc_values, 'bo', label='Training acc')\n",
    "plt.plot(epochs, val_acc_values, 'b', label='Validation acc')\n",
    "plt.legend()\n",
    "plt.show()"
   ]
  }
 ],
 "metadata": {
  "kernelspec": {
   "display_name": "tf2",
   "language": "python",
   "name": "tf2"
  },
  "language_info": {
   "codemirror_mode": {
    "name": "ipython",
    "version": 3
   },
   "file_extension": ".py",
   "mimetype": "text/x-python",
   "name": "python",
   "nbconvert_exporter": "python",
   "pygments_lexer": "ipython3",
   "version": "3.6.5"
  }
 },
 "nbformat": 4,
 "nbformat_minor": 5
}

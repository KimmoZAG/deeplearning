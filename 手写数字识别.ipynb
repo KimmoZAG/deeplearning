{
 "cells": [
  {
   "cell_type": "code",
   "execution_count": 5,
   "id": "35d39ea6",
   "metadata": {},
   "outputs": [],
   "source": [
    "from keras.datasets import mnist\n",
    "(train_images, train_labels), (test_images, test_labels) = mnist.load_data()\n",
    "# import matplotlib.pyplot as plt\n",
    "# plt.imshow(digit, cmap=plt.cm.binary)\n",
    "# plt.show()\n",
    "#绘制图像"
   ]
  },
  {
   "cell_type": "code",
   "execution_count": 14,
   "id": "98d20efe",
   "metadata": {},
   "outputs": [],
   "source": [
    "# 布置网络架构\n",
    "from keras import models\n",
    "from keras import layers\n",
    "\n",
    "network = models.Sequential()\n",
    "network.add(layers.Dense(512, activation=\"relu\", input_shape=(28 * 28, )))\n",
    "network.add(layers.Dense(10, activation=\"softmax\")) "
   ]
  },
  {
   "cell_type": "code",
   "execution_count": 15,
   "id": "47fbbc55",
   "metadata": {},
   "outputs": [],
   "source": [
    "#编译步骤\n",
    "network.compile(optimizer=\"rmsprop\",\n",
    "               loss=\"categorical_crossentropy\",\n",
    "               metrics=[\"accuracy\"])"
   ]
  },
  {
   "cell_type": "code",
   "execution_count": 16,
   "id": "e9f43fac",
   "metadata": {},
   "outputs": [],
   "source": [
    "#准备图像数据\n",
    "train_images = train_images.reshape((60000, 28 * 28))\n",
    "train_images = train_images.astype(\"float32\") / 255\n",
    "\n",
    "test_images = test_images.reshape((10000, 28 * 28))\n",
    "test_images = test_images.astype(\"float32\") / 255"
   ]
  },
  {
   "cell_type": "code",
   "execution_count": 17,
   "id": "57345f5a",
   "metadata": {},
   "outputs": [],
   "source": [
    "#准备标签\n",
    "from keras.utils import to_categorical\n",
    "\n",
    "train_labels = to_categorical(train_labels)\n",
    "test_labels = to_categorical(test_labels)"
   ]
  },
  {
   "cell_type": "code",
   "execution_count": 24,
   "id": "b21d3187",
   "metadata": {},
   "outputs": [
    {
     "name": "stdout",
     "output_type": "stream",
     "text": [
      "Epoch 1/20\n",
      "60000/60000 [==============================] - 2s 31us/step - loss: 0.0026 - accuracy: 0.9993\n",
      "Epoch 2/20\n",
      "60000/60000 [==============================] - 2s 31us/step - loss: 0.0016 - accuracy: 0.9994\n",
      "Epoch 3/20\n",
      "60000/60000 [==============================] - 2s 33us/step - loss: 0.0013 - accuracy: 0.9996\n",
      "Epoch 4/20\n",
      "60000/60000 [==============================] - 2s 33us/step - loss: 0.0011 - accuracy: 0.9997\n",
      "Epoch 5/20\n",
      "60000/60000 [==============================] - 2s 32us/step - loss: 9.1090e-04 - accuracy: 0.9997\n",
      "Epoch 6/20\n",
      "60000/60000 [==============================] - 2s 31us/step - loss: 8.7773e-04 - accuracy: 0.9998\n",
      "Epoch 7/20\n",
      "60000/60000 [==============================] - 2s 35us/step - loss: 5.4570e-04 - accuracy: 0.9998\n",
      "Epoch 8/20\n",
      "60000/60000 [==============================] - 2s 35us/step - loss: 5.3432e-04 - accuracy: 0.9999\n",
      "Epoch 9/20\n",
      "60000/60000 [==============================] - 2s 34us/step - loss: 2.9295e-04 - accuracy: 0.9999\n",
      "Epoch 10/20\n",
      "60000/60000 [==============================] - 2s 32us/step - loss: 4.4536e-04 - accuracy: 0.9999\n",
      "Epoch 11/20\n",
      "60000/60000 [==============================] - 2s 35us/step - loss: 1.7778e-04 - accuracy: 1.0000\n",
      "Epoch 12/20\n",
      "60000/60000 [==============================] - 2s 31us/step - loss: 1.8465e-04 - accuracy: 1.0000\n",
      "Epoch 13/20\n",
      "60000/60000 [==============================] - 2s 33us/step - loss: 2.9531e-04 - accuracy: 0.9999\n",
      "Epoch 14/20\n",
      "60000/60000 [==============================] - 2s 32us/step - loss: 2.2463e-04 - accuracy: 0.9999\n",
      "Epoch 15/20\n",
      "60000/60000 [==============================] - 2s 31us/step - loss: 1.3531e-04 - accuracy: 1.0000\n",
      "Epoch 16/20\n",
      "60000/60000 [==============================] - 2s 40us/step - loss: 1.7719e-04 - accuracy: 0.9999\n",
      "Epoch 17/20\n",
      "60000/60000 [==============================] - 2s 32us/step - loss: 1.3201e-04 - accuracy: 0.9999\n",
      "Epoch 18/20\n",
      "60000/60000 [==============================] - 2s 31us/step - loss: 7.5149e-05 - accuracy: 1.0000\n",
      "Epoch 19/20\n",
      "60000/60000 [==============================] - 2s 31us/step - loss: 8.5757e-05 - accuracy: 1.0000\n",
      "Epoch 20/20\n",
      "60000/60000 [==============================] - 2s 32us/step - loss: 2.0634e-05 - accuracy: 1.0000\n"
     ]
    },
    {
     "data": {
      "text/plain": [
       "<keras.callbacks.callbacks.History at 0x7fbec2b2e048>"
      ]
     },
     "execution_count": 24,
     "metadata": {},
     "output_type": "execute_result"
    }
   ],
   "source": [
    "#开始训练\n",
    "network.fit(train_images, train_labels, epochs=20, batch_size=128)"
   ]
  },
  {
   "cell_type": "code",
   "execution_count": 25,
   "id": "2edde4a0",
   "metadata": {},
   "outputs": [
    {
     "name": "stdout",
     "output_type": "stream",
     "text": [
      "10000/10000 [==============================] - 0s 31us/step\n",
      "test_acc 0.9825999736785889\n"
     ]
    }
   ],
   "source": [
    "#查看结果，验证集分数\n",
    "test_loss, test_acc = network.evaluate(test_images, test_labels)\n",
    "print('test_acc', test_acc)"
   ]
  }
 ],
 "metadata": {
  "kernelspec": {
   "display_name": "tf2",
   "language": "python",
   "name": "tf2"
  },
  "language_info": {
   "codemirror_mode": {
    "name": "ipython",
    "version": 3
   },
   "file_extension": ".py",
   "mimetype": "text/x-python",
   "name": "python",
   "nbconvert_exporter": "python",
   "pygments_lexer": "ipython3",
   "version": "3.6.5"
  }
 },
 "nbformat": 4,
 "nbformat_minor": 5
}
